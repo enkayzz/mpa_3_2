{
 "cells": [
  {
   "cell_type": "code",
   "execution_count": 1,
   "id": "6d74c75e",
   "metadata": {},
   "outputs": [],
   "source": [
    "import pandas as pd\n",
    "import geopandas as gpd\n",
    "import folium\n",
    "import requests\n",
    "import json\n",
    "import pandas_geojson"
   ]
  },
  {
   "cell_type": "code",
   "execution_count": 2,
   "id": "d6764c7b",
   "metadata": {},
   "outputs": [],
   "source": [
    "m = folium.Map(location=[57.185870, 39.414526], zoom_start=13, tiles='cartodbpositron')"
   ]
  },
  {
   "cell_type": "markdown",
   "id": "da2943f6",
   "metadata": {},
   "source": [
    "url = (\"https://github.com/enkayzz/mpa_3_2/blob/main/\")"
   ]
  },
  {
   "cell_type": "code",
   "execution_count": 3,
   "id": "2e0c3eb1",
   "metadata": {},
   "outputs": [],
   "source": [
    "adm_border_shp = gpd.read_file(\"/Users/andreyt/Documents/gis_projects/shp/rostov_border.shp\")"
   ]
  },
  {
   "cell_type": "code",
   "execution_count": 5,
   "id": "a0077097",
   "metadata": {
    "scrolled": true
   },
   "outputs": [
    {
     "name": "stderr",
     "output_type": "stream",
     "text": [
      "/Users/andreyt/anaconda3/envs/geodata/lib/python3.11/site-packages/geopandas/io/file.py:299: FutureWarning: pandas.Int64Index is deprecated and will be removed from pandas in a future version. Use pandas.Index with the appropriate dtype instead.\n",
      "  pd.Int64Index,\n"
     ]
    }
   ],
   "source": [
    "adm_border_shp.to_file(filename=\"/Users/andreyt/Documents/python_projects/geojson/rostov_bound_3857.geojson\", driver='GeoJSON')"
   ]
  },
  {
   "cell_type": "code",
   "execution_count": 6,
   "id": "9b412947",
   "metadata": {},
   "outputs": [],
   "source": [
    "adm_border = json.load(open(\"/Users/andreyt/Documents/python_projects/geojson/rostov_bound_3857.geojson\"))"
   ]
  },
  {
   "cell_type": "code",
   "execution_count": 7,
   "id": "425f4e50",
   "metadata": {},
   "outputs": [
    {
     "data": {
      "text/plain": [
       "<folium.features.GeoJson at 0x13e415250>"
      ]
     },
     "execution_count": 7,
     "metadata": {},
     "output_type": "execute_result"
    }
   ],
   "source": [
    "folium.GeoJson(data=adm_border, style_function=lambda x: {'fillColor': 'orange'}, name=\"adm_border\").add_to(m)"
   ]
  },
  {
   "cell_type": "code",
   "execution_count": 8,
   "id": "2b08d2c0",
   "metadata": {},
   "outputs": [
    {
     "data": {
      "text/plain": [
       "<folium.map.LayerControl at 0x13d749f90>"
      ]
     },
     "execution_count": 8,
     "metadata": {},
     "output_type": "execute_result"
    }
   ],
   "source": [
    "folium.LayerControl().add_to(m)"
   ]
  },
  {
   "cell_type": "code",
   "execution_count": 9,
   "id": "bff4cf58",
   "metadata": {
    "scrolled": true
   },
   "outputs": [
    {
     "data": {
      "text/html": [
       "<div style=\"width:100%;\"><div style=\"position:relative;width:100%;height:0;padding-bottom:60%;\"><span style=\"color:#565656\">Make this Notebook Trusted to load map: File -> Trust Notebook</span><iframe srcdoc=\"&lt;!DOCTYPE html&gt;\n",
       "&lt;html&gt;\n",
       "&lt;head&gt;\n",
       "    \n",
       "    &lt;meta http-equiv=&quot;content-type&quot; content=&quot;text/html; charset=UTF-8&quot; /&gt;\n",
       "    \n",
       "        &lt;script&gt;\n",
       "            L_NO_TOUCH = false;\n",
       "            L_DISABLE_3D = false;\n",
       "        &lt;/script&gt;\n",
       "    \n",
       "    &lt;style&gt;html, body {width: 100%;height: 100%;margin: 0;padding: 0;}&lt;/style&gt;\n",
       "    &lt;style&gt;#map {position:absolute;top:0;bottom:0;right:0;left:0;}&lt;/style&gt;\n",
       "    &lt;script src=&quot;https://cdn.jsdelivr.net/npm/leaflet@1.9.3/dist/leaflet.js&quot;&gt;&lt;/script&gt;\n",
       "    &lt;script src=&quot;https://code.jquery.com/jquery-1.12.4.min.js&quot;&gt;&lt;/script&gt;\n",
       "    &lt;script src=&quot;https://cdn.jsdelivr.net/npm/bootstrap@5.2.2/dist/js/bootstrap.bundle.min.js&quot;&gt;&lt;/script&gt;\n",
       "    &lt;script src=&quot;https://cdnjs.cloudflare.com/ajax/libs/Leaflet.awesome-markers/2.0.2/leaflet.awesome-markers.js&quot;&gt;&lt;/script&gt;\n",
       "    &lt;link rel=&quot;stylesheet&quot; href=&quot;https://cdn.jsdelivr.net/npm/leaflet@1.9.3/dist/leaflet.css&quot;/&gt;\n",
       "    &lt;link rel=&quot;stylesheet&quot; href=&quot;https://cdn.jsdelivr.net/npm/bootstrap@5.2.2/dist/css/bootstrap.min.css&quot;/&gt;\n",
       "    &lt;link rel=&quot;stylesheet&quot; href=&quot;https://netdna.bootstrapcdn.com/bootstrap/3.0.0/css/bootstrap.min.css&quot;/&gt;\n",
       "    &lt;link rel=&quot;stylesheet&quot; href=&quot;https://cdn.jsdelivr.net/npm/@fortawesome/fontawesome-free@6.2.0/css/all.min.css&quot;/&gt;\n",
       "    &lt;link rel=&quot;stylesheet&quot; href=&quot;https://cdnjs.cloudflare.com/ajax/libs/Leaflet.awesome-markers/2.0.2/leaflet.awesome-markers.css&quot;/&gt;\n",
       "    &lt;link rel=&quot;stylesheet&quot; href=&quot;https://cdn.jsdelivr.net/gh/python-visualization/folium/folium/templates/leaflet.awesome.rotate.min.css&quot;/&gt;\n",
       "    \n",
       "            &lt;meta name=&quot;viewport&quot; content=&quot;width=device-width,\n",
       "                initial-scale=1.0, maximum-scale=1.0, user-scalable=no&quot; /&gt;\n",
       "            &lt;style&gt;\n",
       "                #map_e0c845eb06fe53dd2f1edbb8dc355635 {\n",
       "                    position: relative;\n",
       "                    width: 100.0%;\n",
       "                    height: 100.0%;\n",
       "                    left: 0.0%;\n",
       "                    top: 0.0%;\n",
       "                }\n",
       "                .leaflet-container { font-size: 1rem; }\n",
       "            &lt;/style&gt;\n",
       "        \n",
       "&lt;/head&gt;\n",
       "&lt;body&gt;\n",
       "    \n",
       "    \n",
       "            &lt;div class=&quot;folium-map&quot; id=&quot;map_e0c845eb06fe53dd2f1edbb8dc355635&quot; &gt;&lt;/div&gt;\n",
       "        \n",
       "&lt;/body&gt;\n",
       "&lt;script&gt;\n",
       "    \n",
       "    \n",
       "            var map_e0c845eb06fe53dd2f1edbb8dc355635 = L.map(\n",
       "                &quot;map_e0c845eb06fe53dd2f1edbb8dc355635&quot;,\n",
       "                {\n",
       "                    center: [57.18587, 39.414526],\n",
       "                    crs: L.CRS.EPSG3857,\n",
       "                    zoom: 13,\n",
       "                    zoomControl: true,\n",
       "                    preferCanvas: false,\n",
       "                }\n",
       "            );\n",
       "\n",
       "            \n",
       "\n",
       "        \n",
       "    \n",
       "            var tile_layer_7337ec4d943fc0d7f29f81cf86f80d3e = L.tileLayer(\n",
       "                &quot;https://cartodb-basemaps-{s}.global.ssl.fastly.net/light_all/{z}/{x}/{y}.png&quot;,\n",
       "                {&quot;attribution&quot;: &quot;\\u0026copy; \\u003ca target=\\&quot;_blank\\&quot; href=\\&quot;http://www.openstreetmap.org/copyright\\&quot;\\u003eOpenStreetMap\\u003c/a\\u003e contributors \\u0026copy; \\u003ca target=\\&quot;_blank\\&quot; href=\\&quot;http://cartodb.com/attributions\\&quot;\\u003eCartoDB\\u003c/a\\u003e, CartoDB \\u003ca target=\\&quot;_blank\\&quot; href =\\&quot;http://cartodb.com/attributions\\&quot;\\u003eattributions\\u003c/a\\u003e&quot;, &quot;detectRetina&quot;: false, &quot;maxNativeZoom&quot;: 18, &quot;maxZoom&quot;: 18, &quot;minZoom&quot;: 0, &quot;noWrap&quot;: false, &quot;opacity&quot;: 1, &quot;subdomains&quot;: &quot;abc&quot;, &quot;tms&quot;: false}\n",
       "            ).addTo(map_e0c845eb06fe53dd2f1edbb8dc355635);\n",
       "        \n",
       "    \n",
       "        function geo_json_d11c8b2f0dac83f1425fa049550c8d36_styler(feature) {\n",
       "            switch(feature.properties.full_id) {\n",
       "                default:\n",
       "                    return {&quot;fillColor&quot;: &quot;orange&quot;};\n",
       "            }\n",
       "        }\n",
       "\n",
       "        function geo_json_d11c8b2f0dac83f1425fa049550c8d36_onEachFeature(feature, layer) {\n",
       "            layer.on({\n",
       "            });\n",
       "        };\n",
       "        var geo_json_d11c8b2f0dac83f1425fa049550c8d36 = L.geoJson(null, {\n",
       "                onEachFeature: geo_json_d11c8b2f0dac83f1425fa049550c8d36_onEachFeature,\n",
       "            \n",
       "                style: geo_json_d11c8b2f0dac83f1425fa049550c8d36_styler,\n",
       "        });\n",
       "\n",
       "        function geo_json_d11c8b2f0dac83f1425fa049550c8d36_add (data) {\n",
       "            geo_json_d11c8b2f0dac83f1425fa049550c8d36\n",
       "                .addData(data)\n",
       "                .addTo(map_e0c845eb06fe53dd2f1edbb8dc355635);\n",
       "        }\n",
       "            geo_json_d11c8b2f0dac83f1425fa049550c8d36_add({&quot;crs&quot;: {&quot;properties&quot;: {&quot;name&quot;: &quot;urn:ogc:def:crs:EPSG::3857&quot;}, &quot;type&quot;: &quot;name&quot;}, &quot;features&quot;: [{&quot;geometry&quot;: {&quot;coordinates&quot;: [[[4396498.1447143275, 7804811.817000805], [4396435.549764655, 7804588.623630397], [4396435.549764655, 7804504.249365057], [4396394.717775431, 7804387.228910924], [4396375.671010557, 7804313.732271667], [4396386.558056756, 7804196.694198058], [4396405.604821631, 7804074.23068151], [4396362.056636833, 7803951.748584312], [4396285.847313436, 7803913.63522332], [4396204.194466939, 7803804.764454964], [4396176.97685144, 7803747.616149725], [4396079.004567592, 7803630.586809041], [4395923.858593275, 7803622.405306625], [4395806.828412604, 7803644.1952572195], [4395684.343576883, 7803567.971816694], [4395640.795392085, 7803535.307798938], [4395559.142545588, 7803510.825295076], [4395523.765211414, 7803470.000741421], [4395469.329980416, 7803298.523570338], [4395501.991119015, 7803140.657819841], [4395371.34656462, 7803042.67170734], [4395262.476102624, 7803010.009951056], [4395186.266779226, 7803029.064338044], [4395094.728761948, 7802915.314263018], [4395003.914321358, 7802836.631616602], [4394734.966431602, 7802838.481512716], [4394445.747262572, 7802687.798675009], [4394312.854054462, 7802416.675763813], [4394160.502199363, 7802435.461467716], [4394152.687571109, 7802436.427473441], [4393826.109580969, 7802583.17955892], [4393817.1928897565, 7802571.402290996], [4393786.502106146, 7802588.17411261], [4393777.585414932, 7802576.766803435], [4393742.664490671, 7802590.352807845], [4393734.181945473, 7802562.358677079], [4393905.335662567, 7802478.2741373675], [4393906.404329678, 7802460.7831903305], [4393924.749781761, 7802452.602949268], [4393904.289259354, 7802437.064626219], [4393890.775073172, 7802385.064914094], [4393913.295006159, 7802373.596250851], [4393961.006539912, 7802424.38324064], [4394201.478903925, 7802326.694120289], [4394212.944811475, 7802279.504539202], [4394181.541583123, 7802244.893552186], [4394145.496332005, 7802232.048065704], [4394009.842400524, 7801991.399603797], [4393993.077685211, 7801867.0809141835], [4394009.842400524, 7801725.603832056], [4393786.81380072, 7801485.752359837], [4393583.355167396, 7801223.508904161], [4393362.853520033, 7801219.933199908], [4393222.0454961285, 7801250.737741849], [4392966.8344315365, 7800986.714611277], [4392820.193266314, 7800741.461628761], [4392468.523862949, 7800534.8881197525], [4392432.923889793, 7800499.730291825], [4392388.028739156, 7800462.949337016], [4392189.92457334, 7800272.2254796205], [4392165.590132653, 7800180.111806024], [4392047.37996538, 7800157.859216968], [4391930.416576403, 7800064.0415396225], [4391757.615330845, 7799901.27082684], [4391690.979483657, 7799861.7601087345], [4391666.066181617, 7799830.057169586], [4391665.008646454, 7799808.606908703], [4391639.18252459, 7799776.102893291], [4391581.930910476, 7799728.518252056], [4391515.718077351, 7799698.911551158], [4391481.743368762, 7799686.296378515], [4391462.89697897, 7799659.23752031], [4391455.1046146145, 7799641.301063833], [4391337.885190808, 7799547.756863956], [4391292.500234413, 7799485.853550212], [4391241.315532546, 7799468.574952388], [4391161.499457646, 7799466.561515487], [4391127.346637871, 7799487.599902958], [4391053.385968189, 7799490.394068179], [4390900.744682413, 7799401.084016795], [4390885.282405142, 7799358.843420043], [4390845.541346928, 7799327.738383842], [4390817.934113212, 7799326.670049326], [4390788.434448152, 7799306.166273766], [4390693.30081132, 7799228.5071852375], [4390563.724924036, 7799122.805813972], [4390415.881508314, 7799042.950380142], [4390405.640115161, 7799051.126946279], [4390393.539686511, 7799045.641660993], [4390376.474408573, 7799022.221386384], [4390355.924830572, 7798988.65245216], [4390330.243424046, 7798943.168221276], [4390309.794033588, 7798938.340416929], [4390239.106156934, 7798869.662664714], [4390163.854181158, 7798805.505098741], [4390090.839727147, 7798709.362211272], [4389297.6104316, 7798196.230419815], [4389219.664524148, 7798139.514631087], [4389109.758790887, 7798059.546294536], [4389036.766600775, 7798012.896775569], [4388825.10372098, 7797874.059150933], [4388808.9846587125, 7797859.290214416], [4388786.375670132, 7797840.741785489], [4388660.65143723, 7797761.105247534], [4388483.141377212, 7797681.387383462], [4388167.962502929, 7797541.919081286], [4387979.365021627, 7797493.896568364], [4387773.846977725, 7797456.062107947], [4387387.779851704, 7797384.809773555], [4387088.2636297755, 7797310.004785134], [4387014.592390768, 7797278.784909186], [4386891.172471326, 7797201.105485686], [4386725.996610887, 7797042.27798106], [4386618.328399392, 7796950.265119002], [4386090.217603119, 7796600.893403992], [4385998.879960924, 7796526.917634143], [4385946.292633473, 7796456.269598671], [4385893.627382379, 7796415.544590975], [4385863.248293341, 7796347.8959688805], [4385828.004542557, 7796319.945393643], [4385780.181689312, 7796256.87728058], [4385724.533075864, 7796097.823100111], [4385651.218059227, 7795977.913443207], [4385621.8297136575, 7795912.5892499825], [4385576.422493363, 7795872.647510039], [4385522.087449907, 7795805.3733630525], [4385485.953143195, 7795776.541768304], [4385462.019452674, 7795770.093691587], [4385463.377550462, 7795755.390454337], [4385439.788950364, 7795738.058741976], [4385423.26913793, 7795744.506791477], [4385412.604730711, 7795741.2827660395], [4385364.5369745875, 7795722.267204384], [4385341.159881521, 7795728.4688186105], [4385313.274349077, 7795713.971013148], [4385294.73965386, 7795700.253568321], [4385281.92678047, 7795678.8355116695], [4385270.67237995, 7795671.976817906], [4385250.256385339, 7795671.23755787], [4385213.565481173, 7795670.847392881], [4385129.318890542, 7795647.478600067], [4385018.856559827, 7795640.024422065], [4384977.200806372, 7795634.254112991], [4384942.903271259, 7795626.697273576], [4384915.474148727, 7795621.789438965], [4384911.021369095, 7795620.4136030525], [4384893.521945142, 7795618.011024524], [4384878.093063719, 7795610.125643917], [4384858.879319608, 7795592.629984956], [4384846.879078501, 7795578.235112695], [4384830.414925812, 7795562.792997624], [4384812.926633808, 7795548.726736637], [4384796.1173907, 7795543.243982118], [4384768.332045796, 7795547.700003278], [4384743.296292317, 7795553.182761018], [4384719.284678154, 7795559.363702397], [4384704.69069291, 7795566.28389855], [4384681.525106876, 7795568.727530152], [4384656.45595755, 7795556.057616848], [4384648.029072096, 7795554.106821705], [4384633.513010496, 7795548.624063296], [4384588.896158587, 7795546.5911314115], [4384524.909715279, 7795553.039018256], [4384474.760284676, 7795548.049092609], [4384327.32875107, 7795600.741230288], [4384244.662897207, 7795645.096547899], [4384156.241825669, 7795698.71343759], [4384082.548322764, 7795744.63000267], [4384064.781732034, 7795778.554226489], [4384042.406514385, 7795813.998220368], [4384017.315101161, 7795833.8970357105], [4383994.3610221585, 7795841.146049514], [4383960.174806535, 7795816.154436229], [4383959.885375859, 7795785.454087181], [4383979.421946494, 7795748.634367441], [4384017.782643021, 7795717.708405109], [4384045.84628665, 7795669.902782989], [4384073.598235705, 7795643.597498208], [4384118.14829592, 7795610.187248426], [4384154.31599848, 7795599.858233537], [4384264.856252837, 7795535.707767947], [4384397.70493315, 7795467.286678102], [4384517.072823127, 7795411.371581563], [4384582.506419816, 7795368.290748829], [4384576.261396382, 7795342.294520965], [4384413.645884231, 7795271.636977085], [4384371.800887642, 7795265.353600496], [4384308.22632645, 7795262.684193714], [4384200.569246904, 7795287.858790366], [4384156.542388295, 7795302.478985964], [4384120.062991162, 7795310.158706731], [4384058.247277925, 7795323.608503801], [4384025.385764243, 7795318.967807766], [4384001.908483634, 7795279.686277568], [4384005.537499034, 7795252.211914642], [4384025.463687886, 7795219.316731998], [4384106.9495551465, 7795160.734091201], [4384118.337539054, 7795118.968825259], [4384097.420606734, 7795102.213502922], [4383962.234217116, 7795116.566405445], [4383877.508952673, 7795145.806164938], [4383815.982670111, 7795199.460595239], [4383753.343192642, 7795199.542730133], [4383538.752610239, 7794740.894796737], [4383702.937727211, 7794561.771526896], [4383639.374297968, 7794352.697063831], [4383582.8685244415, 7794284.307168096], [4383461.942161592, 7794284.307168096], [4383343.498223389, 7794284.3071680935], [4383280.391204057, 7794123.405481525], [4383225.221264421, 7794098.563238481], [4383192.125979807, 7794083.657931672], [4383054.846783762, 7794154.078578076], [4382856.653562353, 7794544.11402858], [4382815.721385589, 7794795.531931143], [4382295.336161978, 7794953.408972628], [4381869.138359526, 7795190.754301399], [4381599.93443494, 7795675.7141891895], [4381658.644334385, 7796205.18687338], [4381416.680289197, 7796385.786516267], [4381539.020409578, 7796581.464939319], [4381760.134314141, 7796838.475100264], [4382191.942618928, 7797242.882210617], [4382476.452973497, 7797477.793278768], [4383487.311873544, 7798212.889864585], [4383493.979911042, 7798683.847572569], [4383950.055864823, 7798695.53663553], [4383946.538168914, 7798765.815195009], [4383944.946300195, 7798813.044560438], [4383909.123688058, 7799467.342235853], [4383154.85621429, 7799619.378785711], [4383265.9419341525, 7800005.277663219], [4382827.409932122, 7800168.995776929], [4382757.245257075, 7799847.398229417], [4382482.441962102, 7799929.255141648], [4382593.527681964, 7800554.902058323], [4382464.898010354, 7800630.910299771], [4382587.683408698, 7801122.07463748], [4382815.721385589, 7801051.897550043], [4383078.836134027, 7801133.767456854], [4383312.284238169, 7801518.6541652], [4383490.406555388, 7801630.410394492], [4383675.241437901, 7801724.309094651], [4383809.726514729, 7802016.678740126], [4383740.441263658, 7802422.471785655], [4383727.8621612, 7802496.135087289], [4383786.338289713, 7802858.645409602], [4383955.9001380885, 7803098.375845155], [4383985.132636371, 7803776.642501323], [4383663.541759419, 7804133.313890573], [4384454.232970575, 7804750.261356928], [4388925.914651843, 7808466.000209502], [4390187.119954733, 7808754.474568551], [4393685.435140454, 7808419.224953141], [4393129.962013344, 7807039.299549695], [4393802.376265532, 7806764.504459352], [4394626.8084143475, 7806308.426632593], [4395913.1719221575, 7805437.208715017], [4396410.168920754, 7804934.354104618], [4396498.1447143275, 7804811.817000805]]], &quot;type&quot;: &quot;Polygon&quot;}, &quot;properties&quot;: {&quot;addr_count&quot;: null, &quot;addr_regio&quot;: null, &quot;admin_leve&quot;: &quot;8&quot;, &quot;boundary&quot;: &quot;administrative&quot;, &quot;full_id&quot;: &quot;r941037&quot;, &quot;name&quot;: &quot;\\u0433\\u043e\\u0440\\u043e\\u0434\\u0441\\u043a\\u043e\\u0435 \\u043f\\u043e\\u0441\\u0435\\u043b\\u0435\\u043d\\u0438\\u0435 \\u0420\\u043e\\u0441\\u0442\\u043e\\u0432&quot;, &quot;name_en&quot;: null, &quot;name_ru&quot;: null, &quot;official_s&quot;: &quot;ru:\\u0433\\u043e\\u0440\\u043e\\u0434\\u0441\\u043a\\u043e\\u0435 \\u043f\\u043e\\u0441\\u0435\\u043b\\u0435\\u043d\\u0438\\u0435&quot;, &quot;osm_id&quot;: &quot;941037&quot;, &quot;osm_type&quot;: &quot;relation&quot;, &quot;population&quot;: null, &quot;type&quot;: &quot;boundary&quot;, &quot;wikidata&quot;: &quot;Q193342&quot;, &quot;wikipedia&quot;: &quot;ru:\\u0420\\u043e\\u0441\\u0442\\u043e\\u0432&quot;}, &quot;type&quot;: &quot;Feature&quot;}], &quot;type&quot;: &quot;FeatureCollection&quot;});\n",
       "\n",
       "        \n",
       "    \n",
       "            var layer_control_8a5993da4e7f855f487fc6d31a9305d2 = {\n",
       "                base_layers : {\n",
       "                    &quot;cartodbpositron&quot; : tile_layer_7337ec4d943fc0d7f29f81cf86f80d3e,\n",
       "                },\n",
       "                overlays :  {\n",
       "                    &quot;adm_border&quot; : geo_json_d11c8b2f0dac83f1425fa049550c8d36,\n",
       "                },\n",
       "            };\n",
       "            L.control.layers(\n",
       "                layer_control_8a5993da4e7f855f487fc6d31a9305d2.base_layers,\n",
       "                layer_control_8a5993da4e7f855f487fc6d31a9305d2.overlays,\n",
       "                {&quot;autoZIndex&quot;: true, &quot;collapsed&quot;: true, &quot;position&quot;: &quot;topright&quot;}\n",
       "            ).addTo(map_e0c845eb06fe53dd2f1edbb8dc355635);\n",
       "        \n",
       "&lt;/script&gt;\n",
       "&lt;/html&gt;\" style=\"position:absolute;width:100%;height:100%;left:0;top:0;border:none !important;\" allowfullscreen webkitallowfullscreen mozallowfullscreen></iframe></div></div>"
      ],
      "text/plain": [
       "<folium.folium.Map at 0x131042c50>"
      ]
     },
     "execution_count": 9,
     "metadata": {},
     "output_type": "execute_result"
    }
   ],
   "source": [
    "m"
   ]
  },
  {
   "cell_type": "code",
   "execution_count": null,
   "id": "e8407369",
   "metadata": {},
   "outputs": [],
   "source": []
  },
  {
   "cell_type": "code",
   "execution_count": null,
   "id": "35f2e418",
   "metadata": {},
   "outputs": [],
   "source": []
  },
  {
   "cell_type": "code",
   "execution_count": null,
   "id": "6b4f752c",
   "metadata": {},
   "outputs": [],
   "source": []
  },
  {
   "cell_type": "code",
   "execution_count": null,
   "id": "760e940b",
   "metadata": {},
   "outputs": [],
   "source": []
  }
 ],
 "metadata": {
  "kernelspec": {
   "display_name": "Python 3 (ipykernel)",
   "language": "python",
   "name": "python3"
  },
  "language_info": {
   "codemirror_mode": {
    "name": "ipython",
    "version": 3
   },
   "file_extension": ".py",
   "mimetype": "text/x-python",
   "name": "python",
   "nbconvert_exporter": "python",
   "pygments_lexer": "ipython3",
   "version": "3.11.3"
  }
 },
 "nbformat": 4,
 "nbformat_minor": 5
}
