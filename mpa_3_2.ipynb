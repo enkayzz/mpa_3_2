{
 "cells": [
  {
   "cell_type": "code",
   "execution_count": 1,
   "id": "6d74c75e",
   "metadata": {},
   "outputs": [],
   "source": [
    "# getting started\n",
    "import pandas as pd\n",
    "import geopandas as gpd\n",
    "import folium\n",
    "\n",
    "from shapely import geometry"
   ]
  },
  {
   "cell_type": "code",
   "execution_count": null,
   "id": "2f8929a9",
   "metadata": {},
   "outputs": [],
   "source": []
  },
  {
   "cell_type": "code",
   "execution_count": 2,
   "id": "53a0c87e",
   "metadata": {},
   "outputs": [],
   "source": [
    "# создаем сетку\n",
    "\n",
    "data = gpd.read_file('OKN_pts.geojson').to_crs(\"EPSG:32637\")\n",
    "\n",
    "total_bounds = data.total_bounds\n",
    "minX, minY, maxX, maxY = total_bounds\n",
    "\n",
    "square_size = 500"
   ]
  },
  {
   "cell_type": "code",
   "execution_count": 3,
   "id": "f4208c32",
   "metadata": {},
   "outputs": [],
   "source": [
    "grid_cells = []\n",
    "x, y = (minX, minY)\n",
    "geom_array = []\n",
    "\n",
    "while y <= maxY:\n",
    "        while x <= maxX:\n",
    "            geom = geometry.Polygon([(x,y), (x, y+square_size), (x+square_size, y+square_size), (x+square_size, y), (x, y)])\n",
    "            geom_array.append(geom)\n",
    "            x += square_size\n",
    "        x = minX\n",
    "        y += square_size\n",
    "\n",
    "\n",
    "fishnet = gpd.GeoDataFrame(geom_array, columns=['geometry']).set_crs('EPSG:32637')\n",
    "fishnet['id'] = fishnet.index\n",
    "\n",
    "fishnet.to_file('grid.gpkg', driver=\"GPKG\")"
   ]
  },
  {
   "cell_type": "code",
   "execution_count": 4,
   "id": "6e544de7",
   "metadata": {},
   "outputs": [],
   "source": [
    "merged = gpd.sjoin(data, fishnet, how='left', predicate='within')\n",
    "merged['n'] = 1\n",
    "dissolve = merged.dissolve(by=\"index_right\", aggfunc=\"count\")\n",
    "fishnet.loc[dissolve.index, 'n'] = dissolve.n.values"
   ]
  },
  {
   "cell_type": "code",
   "execution_count": 5,
   "id": "a63506b4",
   "metadata": {},
   "outputs": [],
   "source": [
    "data = data.to_crs('EPSG:4326')"
   ]
  },
  {
   "cell_type": "code",
   "execution_count": null,
   "id": "9b0bdddb",
   "metadata": {},
   "outputs": [],
   "source": []
  },
  {
   "cell_type": "code",
   "execution_count": 6,
   "id": "f113a2b6",
   "metadata": {
    "scrolled": false
   },
   "outputs": [
    {
     "name": "stderr",
     "output_type": "stream",
     "text": [
      "/var/folders/mc/_dkt15px7sb86y74_d18r5kc0000gn/T/ipykernel_16273/2256734257.py:1: UserWarning: Geometry is in a geographic CRS. Results from 'centroid' are likely incorrect. Use 'GeoSeries.to_crs()' to re-project geometries to a projected CRS before this operation.\n",
      "\n",
      "  m = folium.Map(location=[data.centroid.y.mean(), data.centroid.x.mean()], zoom_start=13,  tiles=\"cartodb positron\", control_scale=True)\n",
      "/var/folders/mc/_dkt15px7sb86y74_d18r5kc0000gn/T/ipykernel_16273/2256734257.py:1: UserWarning: Geometry is in a geographic CRS. Results from 'centroid' are likely incorrect. Use 'GeoSeries.to_crs()' to re-project geometries to a projected CRS before this operation.\n",
      "\n",
      "  m = folium.Map(location=[data.centroid.y.mean(), data.centroid.x.mean()], zoom_start=13,  tiles=\"cartodb positron\", control_scale=True)\n"
     ]
    }
   ],
   "source": [
    "m = folium.Map(location=[data.centroid.y.mean(), data.centroid.x.mean()], zoom_start=13,  tiles=\"cartodb positron\", control_scale=True)"
   ]
  },
  {
   "cell_type": "code",
   "execution_count": null,
   "id": "77de3a1c",
   "metadata": {},
   "outputs": [],
   "source": []
  },
  {
   "cell_type": "code",
   "execution_count": null,
   "id": "eebc18b4",
   "metadata": {},
   "outputs": [],
   "source": []
  },
  {
   "cell_type": "code",
   "execution_count": null,
   "id": "4182ca92",
   "metadata": {},
   "outputs": [],
   "source": []
  },
  {
   "cell_type": "code",
   "execution_count": 7,
   "id": "08969933",
   "metadata": {},
   "outputs": [],
   "source": [
    "# кластеры точек\n",
    "\n",
    "from folium.plugins import MarkerCluster"
   ]
  },
  {
   "cell_type": "code",
   "execution_count": 8,
   "id": "ed98803e",
   "metadata": {},
   "outputs": [
    {
     "data": {
      "text/plain": [
       "<folium.plugins.feature_group_sub_group.FeatureGroupSubGroup at 0x13e326a10>"
      ]
     },
     "execution_count": 8,
     "metadata": {},
     "output_type": "execute_result"
    }
   ],
   "source": [
    "marker_cluster = MarkerCluster(name='Heritage Sites')\n",
    "mc1= folium.plugins.FeatureGroupSubGroup(marker_cluster, 'Heritage Sites')\n",
    "m.add_child(marker_cluster)\n",
    "m.add_child(mc1)\n",
    "mc1.add_child(folium.GeoJson(data.to_json(), embed=False, show=False))"
   ]
  },
  {
   "cell_type": "code",
   "execution_count": null,
   "id": "9c5d99a1",
   "metadata": {},
   "outputs": [],
   "source": []
  },
  {
   "cell_type": "code",
   "execution_count": null,
   "id": "e24cd3b4",
   "metadata": {},
   "outputs": [],
   "source": []
  },
  {
   "cell_type": "code",
   "execution_count": 9,
   "id": "c2565be9",
   "metadata": {},
   "outputs": [
    {
     "data": {
      "text/plain": [
       "<folium.features.GeoJson at 0x13e34d990>"
      ]
     },
     "execution_count": 9,
     "metadata": {},
     "output_type": "execute_result"
    }
   ],
   "source": [
    "# добавляем полигоны зданий ОКН\n",
    "\n",
    "okn_buildings = open('OKN_poly.geojson').read()\n",
    "\n",
    "folium.GeoJson(\n",
    "    okn_buildings,\n",
    "    name='ОКН здания',\n",
    "    tooltip=folium.GeoJsonTooltip(fields=[\"name_2\"]),\n",
    "    popup=folium.GeoJsonPopup(fields=['name_2']),\n",
    "    style_function=lambda x: {\n",
    "        \"fillColor\": 'yellow'\n",
    "    },\n",
    "    highlight_function=lambda x: {\"fillOpacity\": 0.8},\n",
    "    zoom_on_click=True,\n",
    "    show=False,\n",
    ").add_to(m)"
   ]
  },
  {
   "cell_type": "code",
   "execution_count": 10,
   "id": "cc3b3325",
   "metadata": {},
   "outputs": [
    {
     "data": {
      "text/plain": [
       "<folium.features.GeoJson at 0x13e0d7050>"
      ]
     },
     "execution_count": 10,
     "metadata": {},
     "output_type": "execute_result"
    }
   ],
   "source": [
    "# граница города\n",
    "\n",
    "adm_border = open('Rostov_bound.geojson').read()\n",
    "\n",
    "folium.GeoJson(\n",
    "    adm_border,\n",
    "    name='Граница города'\n",
    ").add_to(m)"
   ]
  },
  {
   "cell_type": "code",
   "execution_count": 11,
   "id": "460df9ae",
   "metadata": {
    "scrolled": true
   },
   "outputs": [
    {
     "data": {
      "text/plain": [
       "<folium.features.GeoJson at 0x132b61d10>"
      ]
     },
     "execution_count": 11,
     "metadata": {},
     "output_type": "execute_result"
    }
   ],
   "source": [
    "# монастыри\n",
    "\n",
    "monasteries = open('monasteries.geojson').read()\n",
    "\n",
    "folium.GeoJson(\n",
    "    monasteries,\n",
    "    name='Территория монастырей'\n",
    ").add_to(m)"
   ]
  },
  {
   "cell_type": "code",
   "execution_count": 12,
   "id": "cbd81e59",
   "metadata": {},
   "outputs": [
    {
     "data": {
      "text/plain": [
       "<folium.features.Choropleth at 0x13e0d7a90>"
      ]
     },
     "execution_count": 12,
     "metadata": {},
     "output_type": "execute_result"
    }
   ],
   "source": [
    "# добавляем сетку плотности на карту\n",
    "\n",
    "folium.Choropleth(\n",
    "    geo_data=fishnet,\n",
    "    data=fishnet,\n",
    "    columns=['id', 'n'],\n",
    "    fill_color='YlGnBu',\n",
    "    fill_opacity = 0.,\n",
    "    key_on='id',\n",
    "    nan_fill_opacity=0,\n",
    "   line_color = \"#0000\",\n",
    "   legend_name=\"Количество ОКН на 500м2\",\n",
    "   name='Концентрация ОКН'\n",
    ").add_to(m)"
   ]
  },
  {
   "cell_type": "code",
   "execution_count": null,
   "id": "cb4de72c",
   "metadata": {},
   "outputs": [],
   "source": []
  },
  {
   "cell_type": "code",
   "execution_count": 13,
   "id": "2dd97ee3",
   "metadata": {},
   "outputs": [],
   "source": [
    "# добавляем мишуру"
   ]
  },
  {
   "cell_type": "code",
   "execution_count": 14,
   "id": "2b08d2c0",
   "metadata": {
    "scrolled": false
   },
   "outputs": [
    {
     "data": {
      "text/plain": [
       "<folium.map.LayerControl at 0x13e53e910>"
      ]
     },
     "execution_count": 14,
     "metadata": {},
     "output_type": "execute_result"
    }
   ],
   "source": [
    "folium.LayerControl().add_to(m)"
   ]
  },
  {
   "cell_type": "code",
   "execution_count": 15,
   "id": "656d11e6",
   "metadata": {},
   "outputs": [],
   "source": [
    "from folium.plugins import MousePosition\n",
    "from folium.plugins import Fullscreen\n",
    "# from folium.plugins import FloatImage"
   ]
  },
  {
   "cell_type": "code",
   "execution_count": 16,
   "id": "c7f69018",
   "metadata": {},
   "outputs": [
    {
     "data": {
      "text/plain": [
       "<folium.plugins.fullscreen.Fullscreen at 0x13e382b10>"
      ]
     },
     "execution_count": 16,
     "metadata": {},
     "output_type": "execute_result"
    }
   ],
   "source": [
    "MousePosition().add_to(m)\n",
    "Fullscreen(\n",
    "    position=\"bottomright\",\n",
    "    title=\"Полный экран\",\n",
    "    title_cancel=\"Выйти\",\n",
    "    force_separate_button=True,\n",
    ").add_to(m)"
   ]
  },
  {
   "cell_type": "code",
   "execution_count": 17,
   "id": "59f6e11a",
   "metadata": {},
   "outputs": [],
   "source": [
    "#image = \n",
    "#FloatImage(image, bottom=40, left=65).add_to(m)"
   ]
  },
  {
   "cell_type": "code",
   "execution_count": null,
   "id": "10021447",
   "metadata": {},
   "outputs": [],
   "source": []
  },
  {
   "cell_type": "code",
   "execution_count": 18,
   "id": "27d84e01",
   "metadata": {},
   "outputs": [],
   "source": [
    "m.save('index.html')"
   ]
  },
  {
   "cell_type": "code",
   "execution_count": null,
   "id": "58ddaf08",
   "metadata": {},
   "outputs": [],
   "source": []
  }
 ],
 "metadata": {
  "kernelspec": {
   "display_name": "Python 3 (ipykernel)",
   "language": "python",
   "name": "python3"
  },
  "language_info": {
   "codemirror_mode": {
    "name": "ipython",
    "version": 3
   },
   "file_extension": ".py",
   "mimetype": "text/x-python",
   "name": "python",
   "nbconvert_exporter": "python",
   "pygments_lexer": "ipython3",
   "version": "3.11.3"
  }
 },
 "nbformat": 4,
 "nbformat_minor": 5
}
